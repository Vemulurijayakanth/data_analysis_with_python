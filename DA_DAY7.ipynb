{
  "nbformat": 4,
  "nbformat_minor": 0,
  "metadata": {
    "colab": {
      "provenance": []
    },
    "kernelspec": {
      "name": "python3",
      "display_name": "Python 3"
    },
    "language_info": {
      "name": "python"
    }
  },
  "cells": [
    {
      "cell_type": "code",
      "execution_count": null,
      "metadata": {
        "id": "SBCBd6vqwDls"
      },
      "outputs": [],
      "source": [
        "import tensorflow as tf\n",
        "from tensorflow import keras\n",
        "from tensorflow.keras import layers\n",
        "from tensorflow.keras.preprocessing.image import ImageDataGenerator\n",
        "#Define image size and batch size\n",
        "IMG_SIZE=224\n",
        "BATCH_SIZE=32"
      ]
    },
    {
      "cell_type": "code",
      "source": [
        "#Define data generators for train,validation and test sets\n",
        "train_datagen=ImageDataGenerator(\n",
        "    rescale=1./255,\n",
        "    validation_split=0.2\n",
        ")\n",
        "\n",
        "train_generator=train_datagen.flow_from_directory('/content/drive/MyDrive/Brain_Tumor_Detection/train',\n",
        "    target_size=(IMG_SIZE,IMG_SIZE),\n",
        "    batch_size=BATCH_SIZE,\n",
        "    class_mode='binary',\n",
        "    subset='training'\n",
        ")\n",
        "val_generator=train_datagen.flow_from_directory('/content/drive/MyDrive/Brain_Tumor_Detection/train',\n",
        "    target_size=(IMG_SIZE,IMG_SIZE),\n",
        "    batch_size=BATCH_SIZE,\n",
        "    class_mode='binary',\n",
        "subset='validation')\n",
        "val_test_generator=train_datagen.flow_from_directory('/content/drive/MyDrive/Brain_Tumor_Detection/test',\n",
        "    target_size=(IMG_SIZE,IMG_SIZE),\n",
        "    batch_size=BATCH_SIZE,\n",
        "    class_mode='binary',\n",
        "subset='validation')"
      ],
      "metadata": {
        "id": "pL5oVtKm_prQ",
        "colab": {
          "base_uri": "https://localhost:8080/"
        },
        "outputId": "a387ada7-8bf1-4884-a1cc-a7935fa550e7"
      },
      "execution_count": null,
      "outputs": [
        {
          "output_type": "stream",
          "name": "stdout",
          "text": [
            "Found 2408 images belonging to 2 classes.\n",
            "Found 602 images belonging to 2 classes.\n",
            "Found 12 images belonging to 1 classes.\n"
          ]
        }
      ]
    },
    {
      "cell_type": "code",
      "source": [
        "#define the model\n",
        "model=keras.Sequential([\n",
        "    layers.Conv2D(32,(3,3),activation='relu',input_shape=(IMG_SIZE,IMG_SIZE,3)),\n",
        "    layers.MaxPooling2D((2,2)),\n",
        "    layers.Conv2D(64,(3,3),activation='relu'),\n",
        "    layers.MaxPooling2D((2,2)),\n",
        "    layers.Conv2D(128,(3,3),activation='relu'),\n",
        "    layers.MaxPooling2D((2,2)),\n",
        "    layers.Flatten(),\n",
        "    layers.Dense(128,activation='relu'),\n",
        "    layers.Dense(1,activation='sigmoid')\n",
        "    ])"
      ],
      "metadata": {
        "id": "5yxUvOHjiHJ8"
      },
      "execution_count": null,
      "outputs": []
    },
    {
      "cell_type": "code",
      "source": [
        "#Compile the model\n",
        "model.compile(optimizer='adam', loss='binary_crossentropy', metrics=['accuracy'])"
      ],
      "metadata": {
        "id": "jNV74y4xmXFR"
      },
      "execution_count": null,
      "outputs": []
    },
    {
      "cell_type": "code",
      "source": [
        "history = model.fit(x=train_generator, validation_data=val_generator, epochs=5)"
      ],
      "metadata": {
        "colab": {
          "base_uri": "https://localhost:8080/"
        },
        "id": "ow3v7XTlplfr",
        "outputId": "5e12bab9-b8f3-49eb-f66f-545cefa06d1a"
      },
      "execution_count": null,
      "outputs": [
        {
          "output_type": "stream",
          "name": "stdout",
          "text": [
            "Epoch 1/5\n",
            "76/76 [==============================] - 1327s 17s/step - loss: 0.3832 - accuracy: 0.8314 - val_loss: 0.4715 - val_accuracy: 0.8073\n",
            "Epoch 2/5\n",
            "76/76 [==============================] - 317s 4s/step - loss: 0.1951 - accuracy: 0.9174 - val_loss: 0.1412 - val_accuracy: 0.9518\n",
            "Epoch 3/5\n",
            "76/76 [==============================] - 293s 4s/step - loss: 0.0902 - accuracy: 0.9701 - val_loss: 0.0570 - val_accuracy: 0.9884\n",
            "Epoch 4/5\n",
            "76/76 [==============================] - 290s 4s/step - loss: 0.0569 - accuracy: 0.9809 - val_loss: 0.0390 - val_accuracy: 0.9884\n",
            "Epoch 5/5\n",
            "76/76 [==============================] - 289s 4s/step - loss: 0.0280 - accuracy: 0.9934 - val_loss: 0.0169 - val_accuracy: 0.9967\n"
          ]
        }
      ]
    },
    {
      "cell_type": "code",
      "source": [
        "model.save(\"Model.h5\",\"label.txt\")"
      ],
      "metadata": {
        "colab": {
          "base_uri": "https://localhost:8080/"
        },
        "id": "Gs7Z7yUNm8nz",
        "outputId": "389f8661-7964-4c88-f767-fe67b0245b54"
      },
      "execution_count": null,
      "outputs": [
        {
          "output_type": "stream",
          "name": "stderr",
          "text": [
            "/usr/local/lib/python3.10/dist-packages/keras/src/engine/training.py:3103: UserWarning: You are saving your model as an HDF5 file via `model.save()`. This file format is considered legacy. We recommend using instead the native Keras format, e.g. `model.save('my_model.keras')`.\n",
            "  saving_api.save_model(\n"
          ]
        }
      ]
    },
    {
      "cell_type": "code",
      "source": [
        "from tensorflow.keras.models import load_model\n",
        "from tensorflow.keras.preprocessing import image\n",
        "import numpy as np\n",
        "\n",
        "#load the saved model\n",
        "model=load_model('/content/Model.h5')\n",
        "\n",
        "#load and preprocess the test image\n",
        "test_image_path='/content/drive/MyDrive/Brain_Tumor_Detection/test/pred/pred1.jpg'\n",
        "img=image.load_img(test_image_path,target_size=(224,224))\n",
        "img_array=image.img_to_array(img)\n",
        "img_array=np.expand_dims(img_array ,axis=0)  #batch dimension\n",
        "img_array /=255.  #normalise the pixel values\n",
        "#make predictions\n",
        "predication=model.predict(img_array)\n",
        "##print the predication\n",
        "if predication < 0.5:\n",
        "  print(\"predication no tumer (probility:\",predication[0][0],\")\")\n",
        "else:\n",
        "    print(\"predication tumer (probility:\",predication[0][0],\")\")"
      ],
      "metadata": {
        "colab": {
          "base_uri": "https://localhost:8080/"
        },
        "id": "4o1_eh5zpJpO",
        "outputId": "8ad9e255-6cbb-405f-e989-6774a057b3c1"
      },
      "execution_count": null,
      "outputs": [
        {
          "output_type": "stream",
          "name": "stdout",
          "text": [
            "1/1 [==============================] - 0s 144ms/step\n",
            "predication no tumer (probility: 4.9446516e-07 )\n"
          ]
        }
      ]
    }
  ]
}