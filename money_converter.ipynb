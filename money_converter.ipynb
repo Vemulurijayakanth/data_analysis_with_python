{
  "nbformat": 4,
  "nbformat_minor": 0,
  "metadata": {
    "colab": {
      "provenance": [],
      "authorship_tag": "ABX9TyNYYOBjF5aom5k78ZNFDF84",
      "include_colab_link": true
    },
    "kernelspec": {
      "name": "python3",
      "display_name": "Python 3"
    },
    "language_info": {
      "name": "python"
    }
  },
  "cells": [
    {
      "cell_type": "markdown",
      "metadata": {
        "id": "view-in-github",
        "colab_type": "text"
      },
      "source": [
        "<a href=\"https://colab.research.google.com/github/Vemulurijayakanth/data_analysis_with_python/blob/main/money_converter.ipynb\" target=\"_parent\"><img src=\"https://colab.research.google.com/assets/colab-badge.svg\" alt=\"Open In Colab\"/></a>"
      ]
    },
    {
      "cell_type": "code",
      "source": [
        "import requests\n",
        "\n",
        "url = \"https://currency-conversion-and-exchange-rates.p.rapidapi.com/convert\"\n",
        "\n",
        "from_currency = input(\"Enter the currency to convert from : \").upper()\n",
        "to_currency = input(\"Enter the currency to convert to: \").upper()\n",
        "amount = float(input(\"Enter the amount to convert: \"))\n",
        "\n",
        "querystring = {\"from\": from_currency, \"to\": to_currency, \"amount\": str(amount)}\n",
        "\n",
        "headers = {\n",
        "    \"X-RapidAPI-Key\": \"a10fba5721mshcdcb3ad07de3d7cp15dbf5jsnc8285e9acb26\",\n",
        "    \"X-RapidAPI-Host\": \"currency-conversion-and-exchange-rates.p.rapidapi.com\"\n",
        "}\n",
        "\n",
        "response = requests.get(url, headers=headers, params=querystring)\n",
        "\n",
        "res=response.json()\n",
        "print(\"Converted Amount\",res['result'])\n"
      ],
      "metadata": {
        "id": "NbwApwlUPaV6"
      },
      "execution_count": null,
      "outputs": []
    }
  ]
}