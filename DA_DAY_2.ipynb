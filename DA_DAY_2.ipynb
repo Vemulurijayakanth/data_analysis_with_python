{
  "nbformat": 4,
  "nbformat_minor": 0,
  "metadata": {
    "colab": {
      "provenance": []
    },
    "kernelspec": {
      "name": "python3",
      "display_name": "Python 3"
    },
    "language_info": {
      "name": "python"
    }
  },
  "cells": [
    {
      "cell_type": "code",
      "execution_count": null,
      "metadata": {
        "id": "eN64AIebrTxz"
      },
      "outputs": [],
      "source": [
        "import numpy as np\n",
        "#RANDOM MODULE IS SUB-PACAKAGE OF NUMPY"
      ]
    },
    {
      "cell_type": "code",
      "source": [
        "A=np.random.rand(1)\n",
        "print(A)"
      ],
      "metadata": {
        "colab": {
          "base_uri": "https://localhost:8080/"
        },
        "id": "pG6S513qtpzt",
        "outputId": "0fcd6e3b-4ca3-4197-e660-cf678ee023dd"
      },
      "execution_count": null,
      "outputs": [
        {
          "output_type": "stream",
          "name": "stdout",
          "text": [
            "[0.09205269]\n"
          ]
        }
      ]
    },
    {
      "cell_type": "code",
      "source": [
        "A=np.random.rand(8,4)#rand-rang is between 0 and 1\n",
        "print(A)"
      ],
      "metadata": {
        "colab": {
          "base_uri": "https://localhost:8080/"
        },
        "id": "Ckx0SkZXtGCA",
        "outputId": "c734e4dc-4054-407b-facb-056554c4649e"
      },
      "execution_count": null,
      "outputs": [
        {
          "output_type": "stream",
          "name": "stdout",
          "text": [
            "[[0.35850009 0.7867703  0.92920641 0.98227131]\n",
            " [0.90181479 0.2854737  0.36674977 0.83053767]\n",
            " [0.79374435 0.44906037 0.02505708 0.9045614 ]\n",
            " [0.44199637 0.87987114 0.41261359 0.81493855]\n",
            " [0.00112898 0.2139473  0.91646615 0.88616841]\n",
            " [0.6350296  0.41328927 0.79351477 0.57134929]\n",
            " [0.49372249 0.53597086 0.07004514 0.16039567]\n",
            " [0.59234816 0.4724852  0.00291045 0.8630751 ]]\n"
          ]
        }
      ]
    },
    {
      "cell_type": "code",
      "source": [
        "A=10*np.random.rand(8,4)\n",
        "print(A)\n"
      ],
      "metadata": {
        "colab": {
          "base_uri": "https://localhost:8080/"
        },
        "id": "NUA6PpPGWGIH",
        "outputId": "ee55e8b3-bf44-4f3f-adb1-482ac162e447"
      },
      "execution_count": null,
      "outputs": [
        {
          "output_type": "stream",
          "name": "stdout",
          "text": [
            "[[2.80881719 5.73785884 7.28159008 6.23401042]\n",
            " [1.17903001 0.48205883 8.67905033 8.07546905]\n",
            " [6.40212302 9.19672908 6.42435376 7.77158972]\n",
            " [0.95165548 1.23748302 2.96516301 7.3873566 ]\n",
            " [9.21375239 7.88991631 1.1278642  8.67937618]\n",
            " [5.6681812  0.87785017 2.9203397  9.99573643]\n",
            " [1.20881142 3.06746798 3.98696636 8.06630285]\n",
            " [5.88794225 1.83577008 2.48244026 5.25154428]]\n"
          ]
        }
      ]
    },
    {
      "cell_type": "code",
      "source": [
        "A=np.floor(10*np.random.rand(8,4))\n",
        "print(A)"
      ],
      "metadata": {
        "colab": {
          "base_uri": "https://localhost:8080/"
        },
        "id": "QkgaEw2IuV1W",
        "outputId": "5dd55231-64ce-4e78-d5c6-2417855e112d"
      },
      "execution_count": null,
      "outputs": [
        {
          "output_type": "stream",
          "name": "stdout",
          "text": [
            "[[1. 4. 8. 0.]\n",
            " [7. 0. 4. 8.]\n",
            " [0. 6. 4. 9.]\n",
            " [8. 8. 5. 1.]\n",
            " [7. 8. 3. 8.]\n",
            " [9. 9. 6. 0.]\n",
            " [8. 1. 1. 3.]\n",
            " [7. 0. 6. 8.]]\n"
          ]
        }
      ]
    },
    {
      "cell_type": "code",
      "source": [
        "A=np.arange(1,33).reshape(8,4)\n",
        "print(A)"
      ],
      "metadata": {
        "colab": {
          "base_uri": "https://localhost:8080/"
        },
        "id": "yT_wi2XGvhGA",
        "outputId": "39c62c7a-77ab-4eb6-c3c6-0b5f9c0d37da"
      },
      "execution_count": null,
      "outputs": [
        {
          "output_type": "stream",
          "name": "stdout",
          "text": [
            "[[ 1  2  3  4]\n",
            " [ 5  6  7  8]\n",
            " [ 9 10 11 12]\n",
            " [13 14 15 16]\n",
            " [17 18 19 20]\n",
            " [21 22 23 24]\n",
            " [25 26 27 28]\n",
            " [29 30 31 32]]\n"
          ]
        }
      ]
    },
    {
      "cell_type": "code",
      "source": [
        "print(np.vsplit(A,4))  #here 4 is the no of splits we require"
      ],
      "metadata": {
        "colab": {
          "base_uri": "https://localhost:8080/"
        },
        "id": "Zo_-NHS5wFty",
        "outputId": "5b2403d1-0b25-4dd6-dc0b-007c6b01a91d"
      },
      "execution_count": null,
      "outputs": [
        {
          "output_type": "stream",
          "name": "stdout",
          "text": [
            "[array([[1., 4., 8., 0.],\n",
            "       [7., 0., 4., 8.]]), array([[0., 6., 4., 9.],\n",
            "       [8., 8., 5., 1.]]), array([[7., 8., 3., 8.],\n",
            "       [9., 9., 6., 0.]]), array([[8., 1., 1., 3.],\n",
            "       [7., 0., 6., 8.]])]\n"
          ]
        }
      ]
    },
    {
      "cell_type": "code",
      "source": [
        "np.vsplit(A,(3,5))#split it after 3rd row and 5th row"
      ],
      "metadata": {
        "colab": {
          "base_uri": "https://localhost:8080/"
        },
        "id": "HTtN4iJ-w0fu",
        "outputId": "0756ec5f-9c6f-425c-934b-c8aa9157f414"
      },
      "execution_count": null,
      "outputs": [
        {
          "output_type": "execute_result",
          "data": {
            "text/plain": [
              "[array([[ 1,  2,  3,  4],\n",
              "        [ 5,  6,  7,  8],\n",
              "        [ 9, 10, 11, 12]]),\n",
              " array([[13, 14, 15, 16],\n",
              "        [17, 18, 19, 20]]),\n",
              " array([[21, 22, 23, 24],\n",
              "        [25, 26, 27, 28],\n",
              "        [29, 30, 31, 32]])]"
            ]
          },
          "metadata": {},
          "execution_count": 26
        }
      ]
    },
    {
      "cell_type": "code",
      "source": [
        "A=np.random.rand(4,8)#rand-rang is between 0 and 1\n",
        "print(A)"
      ],
      "metadata": {
        "colab": {
          "base_uri": "https://localhost:8080/"
        },
        "id": "Ge_dx5-Wzadn",
        "outputId": "4a685507-de6a-433c-a77b-c2c8ee5ccf2f"
      },
      "execution_count": null,
      "outputs": [
        {
          "output_type": "stream",
          "name": "stdout",
          "text": [
            "[[0.42447307 0.69850996 0.45883675 0.56184631 0.45686942 0.92314281\n",
            "  0.5279794  0.62002302]\n",
            " [0.5124866  0.04898422 0.00474511 0.13366809 0.24397386 0.8395131\n",
            "  0.16037014 0.37201602]\n",
            " [0.09360614 0.03615251 0.45312533 0.5181065  0.25137862 0.39681149\n",
            "  0.49928987 0.51639376]\n",
            " [0.90515876 0.41591699 0.56666323 0.97155274 0.95039958 0.30796885\n",
            "  0.07653942 0.15380024]]\n"
          ]
        }
      ]
    },
    {
      "cell_type": "code",
      "source": [
        "A=np.arange(1,33).reshape(4,8)\n",
        "print(A)"
      ],
      "metadata": {
        "colab": {
          "base_uri": "https://localhost:8080/"
        },
        "id": "_cb0Sbb1z-2d",
        "outputId": "fdbc72bf-1839-440e-d17a-fd2bfe5df5c9"
      },
      "execution_count": null,
      "outputs": [
        {
          "output_type": "stream",
          "name": "stdout",
          "text": [
            "[[ 1  2  3  4  5  6  7  8]\n",
            " [ 9 10 11 12 13 14 15 16]\n",
            " [17 18 19 20 21 22 23 24]\n",
            " [25 26 27 28 29 30 31 32]]\n"
          ]
        }
      ]
    },
    {
      "cell_type": "code",
      "source": [
        "#np.vsplit(A,(3,5))#split it after 3rd row and 5th row"
      ],
      "metadata": {
        "id": "gJzdsTbO0hXz"
      },
      "execution_count": null,
      "outputs": []
    },
    {
      "cell_type": "code",
      "source": [
        "np.hsplit(A,4)#split it after 3rd row and 5th row\n",
        "#spliting takes place from left to right\n",
        "#split divide the array into 4 parts\n"
      ],
      "metadata": {
        "colab": {
          "base_uri": "https://localhost:8080/"
        },
        "id": "EqKOyE5Wz2vA",
        "outputId": "1449176c-8dba-4ad7-ea94-bae6b69ad64c"
      },
      "execution_count": null,
      "outputs": [
        {
          "output_type": "execute_result",
          "data": {
            "text/plain": [
              "[array([[ 1,  2],\n",
              "        [ 9, 10],\n",
              "        [17, 18],\n",
              "        [25, 26]]),\n",
              " array([[ 3,  4],\n",
              "        [11, 12],\n",
              "        [19, 20],\n",
              "        [27, 28]]),\n",
              " array([[ 5,  6],\n",
              "        [13, 14],\n",
              "        [21, 22],\n",
              "        [29, 30]]),\n",
              " array([[ 7,  8],\n",
              "        [15, 16],\n",
              "        [23, 24],\n",
              "        [31, 32]])]"
            ]
          },
          "metadata": {},
          "execution_count": 12
        }
      ]
    },
    {
      "cell_type": "code",
      "source": [
        "np.hsplit(A,(3,7))"
      ],
      "metadata": {
        "colab": {
          "base_uri": "https://localhost:8080/"
        },
        "id": "9m5k1tm92iUG",
        "outputId": "174f8604-2e68-4748-f02d-acb6d89217af"
      },
      "execution_count": null,
      "outputs": [
        {
          "output_type": "execute_result",
          "data": {
            "text/plain": [
              "[array([[ 1,  2,  3],\n",
              "        [ 9, 10, 11],\n",
              "        [17, 18, 19],\n",
              "        [25, 26, 27]]),\n",
              " array([[ 4,  5,  6,  7],\n",
              "        [12, 13, 14, 15],\n",
              "        [20, 21, 22, 23],\n",
              "        [28, 29, 30, 31]]),\n",
              " array([[ 8],\n",
              "        [16],\n",
              "        [24],\n",
              "        [32]])]"
            ]
          },
          "metadata": {},
          "execution_count": 13
        }
      ]
    },
    {
      "cell_type": "code",
      "source": [
        "np.hsplit(A,(2,5)) #split takes place after 2nd column and 5th column\n"
      ],
      "metadata": {
        "colab": {
          "base_uri": "https://localhost:8080/"
        },
        "id": "MxXhTwh4aa5J",
        "outputId": "67cc323a-2d0e-471b-f7a9-3f35b02ff948"
      },
      "execution_count": null,
      "outputs": [
        {
          "output_type": "execute_result",
          "data": {
            "text/plain": [
              "[array([[ 1,  2],\n",
              "        [ 9, 10],\n",
              "        [17, 18],\n",
              "        [25, 26]]),\n",
              " array([[ 3,  4,  5],\n",
              "        [11, 12, 13],\n",
              "        [19, 20, 21],\n",
              "        [27, 28, 29]]),\n",
              " array([[ 6,  7,  8],\n",
              "        [14, 15, 16],\n",
              "        [22, 23, 24],\n",
              "        [30, 31, 32]])]"
            ]
          },
          "metadata": {},
          "execution_count": 14
        }
      ]
    },
    {
      "cell_type": "markdown",
      "source": [
        "# Trignometry"
      ],
      "metadata": {
        "id": "AgYEquQP3knz"
      }
    },
    {
      "cell_type": "code",
      "source": [
        "np.pi"
      ],
      "metadata": {
        "colab": {
          "base_uri": "https://localhost:8080/"
        },
        "id": "lz5Bkn8k3UxQ",
        "outputId": "f85c7ed3-58b3-4304-f03f-ffab10844af8"
      },
      "execution_count": null,
      "outputs": [
        {
          "output_type": "execute_result",
          "data": {
            "text/plain": [
              "3.141592653589793"
            ]
          },
          "metadata": {},
          "execution_count": 44
        }
      ]
    },
    {
      "cell_type": "code",
      "source": [
        "B=[np.pi/4,np.pi/3,np.pi/2,np.pi]\n",
        "print(A)"
      ],
      "metadata": {
        "colab": {
          "base_uri": "https://localhost:8080/"
        },
        "id": "eAtWBDe13sZU",
        "outputId": "2356b328-e3c3-474b-f5ff-0ec720b533d1"
      },
      "execution_count": null,
      "outputs": [
        {
          "output_type": "stream",
          "name": "stdout",
          "text": [
            "[0.7853981633974483, 1.0471975511965976, 1.5707963267948966, 3.141592653589793]\n"
          ]
        }
      ]
    },
    {
      "cell_type": "code",
      "source": [
        "c=np.rad2deg(B)\n",
        "print(c)#convert radians to degrees"
      ],
      "metadata": {
        "colab": {
          "base_uri": "https://localhost:8080/"
        },
        "id": "IDT1RkcT4Gum",
        "outputId": "7c9c6401-566c-41a5-c25e-bbc664e2f5f5"
      },
      "execution_count": null,
      "outputs": [
        {
          "output_type": "stream",
          "name": "stdout",
          "text": [
            "[ 45.  60.  90. 180.]\n"
          ]
        }
      ]
    },
    {
      "cell_type": "code",
      "source": [
        "D=np.deg2rad(c)#convert degree to radians\n",
        "print(D)\n"
      ],
      "metadata": {
        "colab": {
          "base_uri": "https://localhost:8080/"
        },
        "id": "hwIZH7DZ4cuM",
        "outputId": "f1e83f9c-02b4-4348-8b58-a65a3343c896"
      },
      "execution_count": null,
      "outputs": [
        {
          "output_type": "stream",
          "name": "stdout",
          "text": [
            "[ 45.  60.  90. 180.]\n",
            "[0.78539816 1.04719755 1.57079633 3.14159265]\n"
          ]
        }
      ]
    },
    {
      "cell_type": "code",
      "source": [
        "np.sin(1) #radians"
      ],
      "metadata": {
        "colab": {
          "base_uri": "https://localhost:8080/"
        },
        "id": "7VRn_n6BbZpS",
        "outputId": "a3dd4b6d-1e72-42d3-e2d9-93f978d300dd"
      },
      "execution_count": null,
      "outputs": [
        {
          "output_type": "execute_result",
          "data": {
            "text/plain": [
              "0.8414709848078965"
            ]
          },
          "metadata": {},
          "execution_count": 15
        }
      ]
    },
    {
      "cell_type": "code",
      "source": [
        "np.cos(1)"
      ],
      "metadata": {
        "colab": {
          "base_uri": "https://localhost:8080/"
        },
        "id": "-DlQ6XNE52WY",
        "outputId": "ee3a61ff-ad79-4e98-d146-02092a6ff4ce"
      },
      "execution_count": null,
      "outputs": [
        {
          "output_type": "execute_result",
          "data": {
            "text/plain": [
              "0.5403023058681398"
            ]
          },
          "metadata": {},
          "execution_count": 64
        }
      ]
    },
    {
      "cell_type": "code",
      "source": [
        "np.tan(1)"
      ],
      "metadata": {
        "colab": {
          "base_uri": "https://localhost:8080/"
        },
        "id": "PGOL1DT66IQ3",
        "outputId": "b4a89438-b23b-421d-dc2d-d4dee7d27cd8"
      },
      "execution_count": null,
      "outputs": [
        {
          "output_type": "execute_result",
          "data": {
            "text/plain": [
              "1.5574077246549023"
            ]
          },
          "metadata": {},
          "execution_count": 70
        }
      ]
    },
    {
      "cell_type": "markdown",
      "source": [
        "### **statistics**"
      ],
      "metadata": {
        "id": "W6kmSf886gxB"
      }
    },
    {
      "cell_type": "code",
      "source": [
        "st=np.array([23,34,45,56,67,78,89,90])\n",
        "np.mean(st)\n"
      ],
      "metadata": {
        "colab": {
          "base_uri": "https://localhost:8080/"
        },
        "id": "qWOn6Qlj6c0u",
        "outputId": "a853349c-fb91-4c37-b057-d462f47c09ab"
      },
      "execution_count": null,
      "outputs": [
        {
          "output_type": "execute_result",
          "data": {
            "text/plain": [
              "60.25"
            ]
          },
          "metadata": {},
          "execution_count": 4
        }
      ]
    },
    {
      "cell_type": "code",
      "source": [
        "np.median(st)\n"
      ],
      "metadata": {
        "colab": {
          "base_uri": "https://localhost:8080/"
        },
        "id": "yK_eQLfh7V7a",
        "outputId": "e413e585-da2c-4f4b-9671-b64f4da0c046"
      },
      "execution_count": null,
      "outputs": [
        {
          "output_type": "execute_result",
          "data": {
            "text/plain": [
              "61.5"
            ]
          },
          "metadata": {},
          "execution_count": 5
        }
      ]
    },
    {
      "cell_type": "code",
      "source": [
        "np.var(st)\n"
      ],
      "metadata": {
        "colab": {
          "base_uri": "https://localhost:8080/"
        },
        "id": "WOfjJ2im8Vur",
        "outputId": "984f2cc4-e568-456d-ab70-498b77a69daf"
      },
      "execution_count": null,
      "outputs": [
        {
          "output_type": "execute_result",
          "data": {
            "text/plain": [
              "549.9375"
            ]
          },
          "metadata": {},
          "execution_count": 6
        }
      ]
    },
    {
      "cell_type": "code",
      "source": [
        "np.std(st)#np.sqrt(np.var(st))"
      ],
      "metadata": {
        "colab": {
          "base_uri": "https://localhost:8080/"
        },
        "id": "GNGc1OfW9AYd",
        "outputId": "4bd31c79-17d3-4558-ed66-10ba7556a7a8"
      },
      "execution_count": null,
      "outputs": [
        {
          "output_type": "execute_result",
          "data": {
            "text/plain": [
              "23.450746256782534"
            ]
          },
          "metadata": {},
          "execution_count": 7
        }
      ]
    },
    {
      "cell_type": "markdown",
      "source": [
        "std=sqrt(sigma(x1-x_)**2/n)\n",
        "\n",
        "\n",
        "x1 is each element\n",
        "x_ is mean\n",
        "\n",
        "var=std**2"
      ],
      "metadata": {
        "id": "hINMAizo9ZoU"
      }
    },
    {
      "cell_type": "code",
      "source": [
        "c=np.arange(1,5).reshape(2,2)\n",
        "print(c)"
      ],
      "metadata": {
        "colab": {
          "base_uri": "https://localhost:8080/"
        },
        "id": "HOIWv8CG91Mh",
        "outputId": "911ac500-e56e-404c-bbc9-215eb1ba687f"
      },
      "execution_count": null,
      "outputs": [
        {
          "output_type": "stream",
          "name": "stdout",
          "text": [
            "[[1 2]\n",
            " [3 4]]\n"
          ]
        }
      ]
    },
    {
      "cell_type": "code",
      "source": [
        "#logic for inverse matrix\n",
        "np.linalg.inv(c)"
      ],
      "metadata": {
        "colab": {
          "base_uri": "https://localhost:8080/"
        },
        "id": "07jkFMRN-1qL",
        "outputId": "3003367e-18c6-4016-dea2-a77660a842ae"
      },
      "execution_count": null,
      "outputs": [
        {
          "output_type": "execute_result",
          "data": {
            "text/plain": [
              "array([[-2. ,  1. ],\n",
              "       [ 1.5, -0.5]])"
            ]
          },
          "metadata": {},
          "execution_count": 81
        }
      ]
    },
    {
      "cell_type": "code",
      "source": [
        "c=10*np.random.rand(24).reshape(6,4)\n",
        "print(c)"
      ],
      "metadata": {
        "colab": {
          "base_uri": "https://localhost:8080/"
        },
        "id": "c--saOWs_KbD",
        "outputId": "6fb4504d-2802-42a8-f68c-410106e6e613"
      },
      "execution_count": null,
      "outputs": [
        {
          "output_type": "stream",
          "name": "stdout",
          "text": [
            "[[0.74221094 6.84838284 3.75276878 8.27784965]\n",
            " [5.9541356  8.07552454 6.21809053 0.8446456 ]\n",
            " [0.79358351 9.78411998 0.01208055 4.68225748]\n",
            " [6.62515255 1.21181537 1.47751365 7.93338435]\n",
            " [0.69976968 3.31007242 2.6772674  3.49815064]\n",
            " [0.39882727 6.34490081 3.84484703 6.63353726]]\n"
          ]
        }
      ]
    },
    {
      "cell_type": "code",
      "source": [
        "print(np.argmax(c))"
      ],
      "metadata": {
        "colab": {
          "base_uri": "https://localhost:8080/"
        },
        "id": "lCnw68XCAV9R",
        "outputId": "aa66a02a-73aa-4f20-c181-6c3c2c8bce2d"
      },
      "execution_count": null,
      "outputs": [
        {
          "output_type": "stream",
          "name": "stdout",
          "text": [
            "9\n"
          ]
        }
      ]
    },
    {
      "cell_type": "code",
      "source": [
        "C=np.floor(10*np.random.rand(24)).reshape(6,4)\n",
        "print(C)\n"
      ],
      "metadata": {
        "colab": {
          "base_uri": "https://localhost:8080/"
        },
        "id": "noF2e2eKgeKY",
        "outputId": "d7012a5e-09bd-4976-9adb-e3e2b7d308d0"
      },
      "execution_count": null,
      "outputs": [
        {
          "output_type": "stream",
          "name": "stdout",
          "text": [
            "[[5. 7. 0. 8.]\n",
            " [8. 8. 9. 8.]\n",
            " [8. 8. 7. 1.]\n",
            " [7. 0. 9. 7.]\n",
            " [2. 8. 9. 0.]\n",
            " [1. 5. 6. 4.]]\n"
          ]
        }
      ]
    },
    {
      "cell_type": "code",
      "source": [
        "c=np.floor(10*np.random.rand(6,4))\n",
        "print(c)"
      ],
      "metadata": {
        "colab": {
          "base_uri": "https://localhost:8080/"
        },
        "id": "nZlM-UGrA4tz",
        "outputId": "68cbd76c-b50a-4ce9-a28a-1cf9c15d5dca"
      },
      "execution_count": null,
      "outputs": [
        {
          "output_type": "stream",
          "name": "stdout",
          "text": [
            "[[6. 2. 0. 0.]\n",
            " [6. 4. 6. 1.]\n",
            " [1. 9. 9. 1.]\n",
            " [7. 6. 2. 7.]\n",
            " [4. 7. 4. 2.]\n",
            " [1. 5. 9. 6.]]\n"
          ]
        }
      ]
    },
    {
      "cell_type": "code",
      "source": [
        "print(np.argmax(c))"
      ],
      "metadata": {
        "colab": {
          "base_uri": "https://localhost:8080/"
        },
        "id": "Tbhn6okEBKel",
        "outputId": "398e0c54-16e6-4f44-be52-4d07abafe96b"
      },
      "execution_count": null,
      "outputs": [
        {
          "output_type": "stream",
          "name": "stdout",
          "text": [
            "9\n"
          ]
        }
      ]
    },
    {
      "cell_type": "code",
      "source": [
        "\n",
        "print(np.argmax(c,axis=1))\n",
        "print(np.argmax(c,axis=0))"
      ],
      "metadata": {
        "colab": {
          "base_uri": "https://localhost:8080/"
        },
        "id": "X95zF-kBCNPa",
        "outputId": "5c91d9b2-759b-4594-a1e3-dbe096ce2b9a"
      },
      "execution_count": null,
      "outputs": [
        {
          "output_type": "stream",
          "name": "stdout",
          "text": [
            "[3 1 1 3 3 3]\n",
            "[3 2 1 0]\n"
          ]
        }
      ]
    },
    {
      "cell_type": "code",
      "source": [
        "print(c)\n",
        "print(np.argmin(c))"
      ],
      "metadata": {
        "colab": {
          "base_uri": "https://localhost:8080/"
        },
        "id": "71ZNBKaSEOqX",
        "outputId": "9f770cd6-6df1-40c1-e58c-37f1c229c189"
      },
      "execution_count": null,
      "outputs": [
        {
          "output_type": "stream",
          "name": "stdout",
          "text": [
            "[[6. 2. 0. 0.]\n",
            " [6. 4. 6. 1.]\n",
            " [1. 9. 9. 1.]\n",
            " [7. 6. 2. 7.]\n",
            " [4. 7. 4. 2.]\n",
            " [1. 5. 9. 6.]]\n",
            "2\n"
          ]
        }
      ]
    },
    {
      "cell_type": "code",
      "source": [
        "print(np.argmin(c,axis=0))\n",
        "print(np.argmin(c,axis=1))"
      ],
      "metadata": {
        "colab": {
          "base_uri": "https://localhost:8080/"
        },
        "id": "oNDJ-V-YEY_R",
        "outputId": "3af97b86-fecd-4d9b-f155-ee2be37d081b"
      },
      "execution_count": null,
      "outputs": [
        {
          "output_type": "stream",
          "name": "stdout",
          "text": [
            "[2 0 0 0]\n",
            "[2 3 0 2 3 0]\n"
          ]
        }
      ]
    },
    {
      "cell_type": "markdown",
      "source": [
        "searching"
      ],
      "metadata": {
        "id": "5zwy-Jf6FEI2"
      }
    },
    {
      "cell_type": "code",
      "source": [
        "a=np.array([34,45,6,17,88,91])\n",
        "#output=(0,1,4)\n",
        "print(np.where(a%2==0))\n",
        "print(np.where(a%2==1))\n",
        "#(array([0,1,4],dtype=int64),)\n"
      ],
      "metadata": {
        "colab": {
          "base_uri": "https://localhost:8080/"
        },
        "id": "T2FtrUA6FF_U",
        "outputId": "5699959a-10de-4ddb-9f18-ad6f13b99cc6"
      },
      "execution_count": null,
      "outputs": [
        {
          "output_type": "stream",
          "name": "stdout",
          "text": [
            "(array([0, 2, 4]),)\n",
            "(array([1, 3, 5]),)\n"
          ]
        }
      ]
    },
    {
      "cell_type": "code",
      "source": [
        "a=np.array([6,7,8,54,60])\n",
        "print(np.where(a%6==0))"
      ],
      "metadata": {
        "colab": {
          "base_uri": "https://localhost:8080/"
        },
        "id": "s0lUJ5xuG4-9",
        "outputId": "ed768d8e-9224-4dd4-e1c9-bcfc7a757afa"
      },
      "execution_count": null,
      "outputs": [
        {
          "output_type": "stream",
          "name": "stdout",
          "text": [
            "(array([0, 3, 4]),)\n"
          ]
        }
      ]
    },
    {
      "cell_type": "code",
      "source": [
        "a=np.array([2,4,7,3,6]) #searchsort\n",
        "x=np.searchsorted(a,3)\n",
        "print(x)\n"
      ],
      "metadata": {
        "colab": {
          "base_uri": "https://localhost:8080/"
        },
        "id": "80aPZAM5mIK3",
        "outputId": "077739cd-9400-44a7-da5f-73082299ccb2"
      },
      "execution_count": null,
      "outputs": [
        {
          "output_type": "stream",
          "name": "stdout",
          "text": [
            "1\n"
          ]
        }
      ]
    },
    {
      "cell_type": "code",
      "source": [
        "x=np.searchsorted(a,10)\n",
        "print(x)"
      ],
      "metadata": {
        "colab": {
          "base_uri": "https://localhost:8080/"
        },
        "id": "gWi82CpHHsbI",
        "outputId": "04ab8659-4104-47e5-d248-15b317fc0949"
      },
      "execution_count": null,
      "outputs": [
        {
          "output_type": "stream",
          "name": "stdout",
          "text": [
            "5\n"
          ]
        }
      ]
    },
    {
      "cell_type": "code",
      "source": [
        "a=np.array([2,4,6,7,8])\n",
        "x=np.searchsorted(a,7)\n",
        "print(x)"
      ],
      "metadata": {
        "colab": {
          "base_uri": "https://localhost:8080/"
        },
        "id": "EVEQtOojmj8A",
        "outputId": "5d7eeda2-228c-4795-a0a4-53e0a4a43d12"
      },
      "execution_count": null,
      "outputs": [
        {
          "output_type": "stream",
          "name": "stdout",
          "text": [
            "3\n"
          ]
        }
      ]
    },
    {
      "cell_type": "code",
      "source": [
        "a=np.array(['banana','apple','cherry']) #sorting\n",
        "print(np.sort(a))"
      ],
      "metadata": {
        "colab": {
          "base_uri": "https://localhost:8080/"
        },
        "id": "J_7jvMJhIXK_",
        "outputId": "eb521f76-2d34-4b80-a65e-6066013d9212"
      },
      "execution_count": null,
      "outputs": [
        {
          "output_type": "stream",
          "name": "stdout",
          "text": [
            "['apple' 'banana' 'cherry']\n"
          ]
        }
      ]
    },
    {
      "cell_type": "code",
      "source": [
        "a=np.array(['true','false','true'])\n",
        "print(np.sort(a))\n"
      ],
      "metadata": {
        "id": "HdzNAs4lnDQ_",
        "outputId": "e846c45e-a0ff-4a41-b3ef-81796012e0fb",
        "colab": {
          "base_uri": "https://localhost:8080/"
        }
      },
      "execution_count": null,
      "outputs": [
        {
          "output_type": "stream",
          "name": "stdout",
          "text": [
            "['false' 'true' 'true']\n"
          ]
        }
      ]
    },
    {
      "cell_type": "code",
      "source": [
        "arr=np.array([[3,2,4],[5,0,1]])\n",
        "print(np.sort(arr))"
      ],
      "metadata": {
        "colab": {
          "base_uri": "https://localhost:8080/"
        },
        "id": "88pQbNXcJZR7",
        "outputId": "bd5e3e0e-9532-4f6f-cc2e-dd504b7c02fd"
      },
      "execution_count": null,
      "outputs": [
        {
          "output_type": "stream",
          "name": "stdout",
          "text": [
            "[[2 3 4]\n",
            " [0 1 5]]\n"
          ]
        }
      ]
    },
    {
      "cell_type": "code",
      "source": [
        "arr=np.array([2,534,32,24,64,66])\n",
        "x=[True,False,True,False,True,True]\n",
        "newarr=arr[x]\n",
        "print(newarr)"
      ],
      "metadata": {
        "colab": {
          "base_uri": "https://localhost:8080/"
        },
        "id": "CMT5jN62J8NP",
        "outputId": "e5dfae09-ac67-4775-b5e4-856eeef9f31d"
      },
      "execution_count": null,
      "outputs": [
        {
          "output_type": "stream",
          "name": "stdout",
          "text": [
            "[ 2 32 64 66]\n"
          ]
        }
      ]
    },
    {
      "cell_type": "markdown",
      "source": [
        "filtering"
      ],
      "metadata": {
        "id": "ndKhbhwuMdic"
      }
    },
    {
      "cell_type": "code",
      "source": [
        "arr=np.array([40,45,56,78,98,21])\n",
        "filt=np.where(arr%2==0)\n",
        "print(filt)"
      ],
      "metadata": {
        "colab": {
          "base_uri": "https://localhost:8080/"
        },
        "id": "LsMtavDJLLJQ",
        "outputId": "3a74dfc8-bdf7-4b5f-8556-fb26d885b8f8"
      },
      "execution_count": null,
      "outputs": [
        {
          "output_type": "stream",
          "name": "stdout",
          "text": [
            "(array([0, 2, 3, 4]),)\n"
          ]
        }
      ]
    },
    {
      "cell_type": "code",
      "source": [
        "arr[filt]"
      ],
      "metadata": {
        "colab": {
          "base_uri": "https://localhost:8080/"
        },
        "id": "DBjUSNfdMRun",
        "outputId": "77ce1307-875c-44c7-8ee3-9c015729f5c8"
      },
      "execution_count": null,
      "outputs": [
        {
          "output_type": "execute_result",
          "data": {
            "text/plain": [
              "array([40, 56, 78, 98])"
            ]
          },
          "metadata": {},
          "execution_count": 118
        }
      ]
    },
    {
      "cell_type": "code",
      "source": [
        "print(arr[0])\n",
        "print(arr[1])\n",
        "print(arr[2])\n",
        "print(arr[3])"
      ],
      "metadata": {
        "colab": {
          "base_uri": "https://localhost:8080/"
        },
        "id": "GugZ-EqQMk-Q",
        "outputId": "92621c0f-a2e7-47bb-fb43-80851a89be94"
      },
      "execution_count": null,
      "outputs": [
        {
          "output_type": "stream",
          "name": "stdout",
          "text": [
            "40\n",
            "45\n",
            "56\n",
            "78\n"
          ]
        }
      ]
    },
    {
      "cell_type": "code",
      "source": [
        "a=np.array([\"Vamsi\", \"Naga\", \"Sai\",\"Jaya\",\"Kanth\"])\n",
        "initials=np.array([\"A\",\"B\",\"C\",\"D\",\"E\"])\n",
        "for i,j in zip(initials,a):\n",
        "  print(i,\".\",j)"
      ],
      "metadata": {
        "colab": {
          "base_uri": "https://localhost:8080/"
        },
        "id": "2e-bpmK0NNmp",
        "outputId": "87b46651-3382-49ac-b3c3-2c85b31c799a"
      },
      "execution_count": null,
      "outputs": [
        {
          "output_type": "stream",
          "name": "stdout",
          "text": [
            "A . Vamsi\n",
            "B . Naga\n",
            "C . Sai\n",
            "D . Jaya\n",
            "E . Kanth\n"
          ]
        }
      ]
    },
    {
      "cell_type": "code",
      "source": [
        "a1=np.array([10,20,30,40,50,60])\n",
        "a2=np.array([20,21,22,23,24,25])\n",
        "n=np.multiply(a1,a2)\n",
        "print(n)"
      ],
      "metadata": {
        "colab": {
          "base_uri": "https://localhost:8080/"
        },
        "id": "gFYQ4-kJQwwa",
        "outputId": "8a33b030-400f-4059-978e-28b3dfa1a50d"
      },
      "execution_count": null,
      "outputs": [
        {
          "output_type": "stream",
          "name": "stdout",
          "text": [
            "[ 200  420  660  920 1200 1500]\n"
          ]
        }
      ]
    },
    {
      "cell_type": "code",
      "source": [
        "a1=np.array([10,20,30,40,50,60])\n",
        "a2=np.array([20,21,22,23,24,25])\n",
        "n=np.divide(a1,a2)\n",
        "print(n)"
      ],
      "metadata": {
        "colab": {
          "base_uri": "https://localhost:8080/"
        },
        "id": "LORcPpJiRp9p",
        "outputId": "c639117f-ec10-4af0-cb19-3cde73235969"
      },
      "execution_count": null,
      "outputs": [
        {
          "output_type": "stream",
          "name": "stdout",
          "text": [
            "[0.5        0.95238095 1.36363636 1.73913043 2.08333333 2.4       ]\n"
          ]
        }
      ]
    },
    {
      "cell_type": "code",
      "source": [
        "a1=np.array([10,20,30,40,50,60])\n",
        "a2=np.array([20,21,22,23,24,25])\n",
        "n=np.mod(a1,a2)\n",
        "print(n)"
      ],
      "metadata": {
        "colab": {
          "base_uri": "https://localhost:8080/"
        },
        "id": "4fKv17JkRqMc",
        "outputId": "a7b0267f-7344-4e4e-a4f1-bab701fb77e4"
      },
      "execution_count": null,
      "outputs": [
        {
          "output_type": "stream",
          "name": "stdout",
          "text": [
            "[10 20  8 17  2 10]\n"
          ]
        }
      ]
    },
    {
      "cell_type": "code",
      "source": [
        "a1=np.array([10,20,30,40,50,60])\n",
        "a2=np.array([20,21,22,23,24,25])\n",
        "n=np.divmod(a1,a2)\n",
        "print(n)"
      ],
      "metadata": {
        "colab": {
          "base_uri": "https://localhost:8080/"
        },
        "id": "dTpLIOj9R82d",
        "outputId": "1b829cb2-bb16-407d-c7a6-9c9c0e83b531"
      },
      "execution_count": null,
      "outputs": [
        {
          "output_type": "stream",
          "name": "stdout",
          "text": [
            "(array([0, 0, 1, 1, 2, 2]), array([10, 20,  8, 17,  2, 10]))\n"
          ]
        }
      ]
    },
    {
      "cell_type": "markdown",
      "source": [
        "logrithams"
      ],
      "metadata": {
        "id": "ddWrA6piSO77"
      }
    },
    {
      "cell_type": "code",
      "source": [
        "a1=np.arange(1,10)\n",
        "print(a1)\n",
        "print(np.log10(a1))"
      ],
      "metadata": {
        "colab": {
          "base_uri": "https://localhost:8080/"
        },
        "id": "8voRHTcGSNq_",
        "outputId": "6be218cf-d6fe-4fdd-f15d-8bb82d96670f"
      },
      "execution_count": null,
      "outputs": [
        {
          "output_type": "stream",
          "name": "stdout",
          "text": [
            "[1 2 3 4 5 6 7 8 9]\n",
            "[0.         0.30103    0.47712125 0.60205999 0.69897    0.77815125\n",
            " 0.84509804 0.90308999 0.95424251]\n"
          ]
        }
      ]
    },
    {
      "cell_type": "code",
      "source": [
        "a2=22\n",
        "print(np.log10(a2))"
      ],
      "metadata": {
        "colab": {
          "base_uri": "https://localhost:8080/"
        },
        "id": "iAEFPHcHTmCt",
        "outputId": "93e9390c-1373-4474-ffd8-82f3a469cd00"
      },
      "execution_count": null,
      "outputs": [
        {
          "output_type": "stream",
          "name": "stdout",
          "text": [
            "1.3424226808222062\n"
          ]
        }
      ]
    },
    {
      "cell_type": "code",
      "source": [
        "a2=np.array([5,6,8,10])\n",
        "x=np.cumprod(a2)\n",
        "print(x)"
      ],
      "metadata": {
        "colab": {
          "base_uri": "https://localhost:8080/"
        },
        "id": "OQ7bntFQWB66",
        "outputId": "90484eec-3e3c-4002-a1f8-66623bb1ecec"
      },
      "execution_count": null,
      "outputs": [
        {
          "output_type": "stream",
          "name": "stdout",
          "text": [
            "[   5   30  240 2400]\n"
          ]
        }
      ]
    },
    {
      "cell_type": "code",
      "source": [
        "a1=np.array([10,15,25,33])\n",
        "newarr=np.diff(a1)\n",
        "print(newarr)"
      ],
      "metadata": {
        "colab": {
          "base_uri": "https://localhost:8080/"
        },
        "id": "cFEd5FuVUtmd",
        "outputId": "247ab503-4b33-44c7-9ac0-860643ca6b40"
      },
      "execution_count": null,
      "outputs": [
        {
          "output_type": "stream",
          "name": "stdout",
          "text": [
            "[ 5 10  8]\n"
          ]
        }
      ]
    },
    {
      "cell_type": "code",
      "source": [
        "num1=455\n",
        "num2=665\n",
        "x=np.lcm(num1,num2)\n",
        "print(x)"
      ],
      "metadata": {
        "colab": {
          "base_uri": "https://localhost:8080/"
        },
        "id": "tX_yOovUVQYJ",
        "outputId": "6e591ba8-539d-4913-b3fd-2eb750e2a267"
      },
      "execution_count": null,
      "outputs": [
        {
          "output_type": "stream",
          "name": "stdout",
          "text": [
            "8645\n"
          ]
        }
      ]
    },
    {
      "cell_type": "code",
      "source": [
        "num1=35\n",
        "num1=2345\n",
        "x=np.gcd(num1,num2)\n",
        "print(x)"
      ],
      "metadata": {
        "colab": {
          "base_uri": "https://localhost:8080/"
        },
        "id": "CNs5tjgKUmWh",
        "outputId": "09291139-a6d3-4bdd-f2b9-089a33ec40e2"
      },
      "execution_count": null,
      "outputs": [
        {
          "output_type": "stream",
          "name": "stdout",
          "text": [
            "35\n"
          ]
        }
      ]
    },
    {
      "cell_type": "code",
      "source": [
        "a=np.array([12,15,60])\n",
        "gc=np.gcd.reduce(a)#it takes multiple inputs given single output\n",
        "print(gc)"
      ],
      "metadata": {
        "colab": {
          "base_uri": "https://localhost:8080/"
        },
        "id": "OBIqoZ37W6EM",
        "outputId": "0aab6a08-fa53-458d-805d-a4a8b36ee2b2"
      },
      "execution_count": null,
      "outputs": [
        {
          "output_type": "stream",
          "name": "stdout",
          "text": [
            "3\n"
          ]
        }
      ]
    },
    {
      "cell_type": "code",
      "source": [
        "a=np.array([12,5,6])\n",
        "lc=np.gcd.reduce(a)#it takes multiple inputs given single output\n",
        "print(lc)"
      ],
      "metadata": {
        "colab": {
          "base_uri": "https://localhost:8080/"
        },
        "id": "s-JCFm-uXUu4",
        "outputId": "21669075-4cd9-4c17-9b51-91fee0b1cbb4"
      },
      "execution_count": null,
      "outputs": [
        {
          "output_type": "stream",
          "name": "stdout",
          "text": [
            "1\n"
          ]
        }
      ]
    }
  ]
}