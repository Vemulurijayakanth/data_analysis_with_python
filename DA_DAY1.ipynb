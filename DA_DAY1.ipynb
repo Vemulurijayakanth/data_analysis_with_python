{
  "nbformat": 4,
  "nbformat_minor": 0,
  "metadata": {
    "colab": {
      "provenance": [],
      "authorship_tag": "ABX9TyNpw3eO5F9rUM4oDKh6baRt",
      "include_colab_link": true
    },
    "kernelspec": {
      "name": "python3",
      "display_name": "Python 3"
    },
    "language_info": {
      "name": "python"
    }
  },
  "cells": [
    {
      "cell_type": "markdown",
      "metadata": {
        "id": "view-in-github",
        "colab_type": "text"
      },
      "source": [
        "<a href=\"https://colab.research.google.com/github/Vemulurijayakanth/data_analysis_with_python/blob/main/DA_DAY1.ipynb\" target=\"_parent\"><img src=\"https://colab.research.google.com/assets/colab-badge.svg\" alt=\"Open In Colab\"/></a>"
      ]
    },
    {
      "cell_type": "code",
      "execution_count": null,
      "metadata": {
        "colab": {
          "base_uri": "https://localhost:8080/"
        },
        "id": "pWpr-Mhjqq5s",
        "outputId": "0f94bf8d-0f83-4f5e-b963-8290520089df"
      },
      "outputs": [
        {
          "output_type": "stream",
          "name": "stdout",
          "text": [
            "i am  5 years old\n"
          ]
        }
      ],
      "source": [
        "a=5\n",
        "print(\"i am \",a,\"years old\")"
      ]
    },
    {
      "cell_type": "code",
      "source": [
        "a=7\n",
        "b=25\n",
        "print(a+b)\n"
      ],
      "metadata": {
        "colab": {
          "base_uri": "https://localhost:8080/"
        },
        "id": "ldI5qWz39J9m",
        "outputId": "48ee701b-8ba6-4ce8-ab2f-e400e0978f17"
      },
      "execution_count": null,
      "outputs": [
        {
          "output_type": "stream",
          "name": "stdout",
          "text": [
            "32\n"
          ]
        }
      ]
    },
    {
      "cell_type": "code",
      "source": [],
      "metadata": {
        "id": "6y9wUE9fWvY2"
      },
      "execution_count": null,
      "outputs": []
    },
    {
      "cell_type": "code",
      "source": [
        "print(b**a)\n",
        "print(b//a)\n",
        "print(a/b)"
      ],
      "metadata": {
        "colab": {
          "base_uri": "https://localhost:8080/"
        },
        "id": "3BQjacMgU_Nb",
        "outputId": "cc8bfbd0-2f4b-4459-aacd-1eefcd8924e6"
      },
      "execution_count": null,
      "outputs": [
        {
          "output_type": "stream",
          "name": "stdout",
          "text": [
            "6103515625\n",
            "3\n",
            "0.28\n"
          ]
        }
      ]
    },
    {
      "cell_type": "markdown",
      "source": [
        "operators\n"
      ],
      "metadata": {
        "id": "CEmBaB8ZrkKp"
      }
    },
    {
      "cell_type": "code",
      "source": [
        "#arthmatic\n",
        "a=5\n",
        "b=25\n",
        "print(a+b)"
      ],
      "metadata": {
        "colab": {
          "base_uri": "https://localhost:8080/"
        },
        "id": "QaFYHxZxrwcS",
        "outputId": "3dbdcc0e-43ef-4069-ccc5-fef034a377f1"
      },
      "execution_count": null,
      "outputs": [
        {
          "output_type": "stream",
          "name": "stdout",
          "text": [
            "30\n"
          ]
        }
      ]
    },
    {
      "cell_type": "markdown",
      "source": [
        "relations"
      ],
      "metadata": {
        "id": "LRI3Bm_Ush-2"
      }
    },
    {
      "cell_type": "code",
      "source": [
        "#relations\n",
        "a=6\n",
        "b=6\n",
        "print(a==b)\n",
        "print(a>b)\n",
        "print(a<b)\n",
        "print(a<=b)\n",
        "print(a>=b)\n",
        "print(a!=b)"
      ],
      "metadata": {
        "colab": {
          "base_uri": "https://localhost:8080/"
        },
        "id": "MkmPWO3Jsjpc",
        "outputId": "d0efa85b-8b05-43d7-a6b7-aafada44b6d3"
      },
      "execution_count": null,
      "outputs": [
        {
          "output_type": "stream",
          "name": "stdout",
          "text": [
            "True\n",
            "False\n",
            "False\n",
            "True\n",
            "True\n",
            "False\n"
          ]
        }
      ]
    },
    {
      "cell_type": "code",
      "source": [
        "#logical\n",
        "a=6\n",
        "b=20\n",
        "print((a>b) and (a<=b))#false and true\n",
        "\n"
      ],
      "metadata": {
        "colab": {
          "base_uri": "https://localhost:8080/"
        },
        "id": "Uc4cMkiltX1Q",
        "outputId": "eb0fc89c-7caf-4e88-8c98-37bab3708f41"
      },
      "execution_count": null,
      "outputs": [
        {
          "output_type": "stream",
          "name": "stdout",
          "text": [
            "False\n"
          ]
        }
      ]
    },
    {
      "cell_type": "code",
      "source": [
        "print((a>b) or (a<b)) #false and true\n"
      ],
      "metadata": {
        "colab": {
          "base_uri": "https://localhost:8080/"
        },
        "id": "-UUKlsm_t4z_",
        "outputId": "862e0fef-f41e-4805-bc8e-a967d1baf341"
      },
      "execution_count": null,
      "outputs": [
        {
          "output_type": "stream",
          "name": "stdout",
          "text": [
            "True\n"
          ]
        }
      ]
    },
    {
      "cell_type": "code",
      "source": [
        "a=\"private\"\n",
        "print(\"a\"not in a)\n",
        "print(\"a\"in a)"
      ],
      "metadata": {
        "colab": {
          "base_uri": "https://localhost:8080/"
        },
        "id": "rxrZSt-YuM7P",
        "outputId": "55e6cd58-f358-471f-c50e-62cef1ca3de4"
      },
      "execution_count": null,
      "outputs": [
        {
          "output_type": "stream",
          "name": "stdout",
          "text": [
            "False\n",
            "True\n"
          ]
        }
      ]
    },
    {
      "cell_type": "markdown",
      "source": [
        "# control flow"
      ],
      "metadata": {
        "id": "02PazFsqbuWY"
      }
    },
    {
      "cell_type": "code",
      "source": [
        "#conditional if\n",
        "#write a program to get a number from the userand check wheather the given number is positive or negative\n",
        "\n",
        "a=int(input(\"enter a number\"))\n",
        "print(type(a))\n",
        "if (a<0):\n",
        "  print(\" is negative\")\n",
        "else:\n",
        "  print(\"given number is positive\")\n"
      ],
      "metadata": {
        "id": "ELcN77Q4bYOR"
      },
      "execution_count": null,
      "outputs": []
    },
    {
      "cell_type": "code",
      "source": [
        "#zero\n",
        "a=int(input(\"enter a number\"))\n",
        "print(type(a))\n",
        "if (a<0):\n",
        "  print(a,\" is negative\")\n",
        "elif(a==0):\n",
        "  print(a,\"is neutral\")\n",
        "else:\n",
        "  print(a,\" is positive\")\n"
      ],
      "metadata": {
        "colab": {
          "base_uri": "https://localhost:8080/"
        },
        "id": "zkyPDMTiu5F-",
        "outputId": "a6b5a040-4ea0-403f-937a-c67b6f51f405"
      },
      "execution_count": null,
      "outputs": [
        {
          "output_type": "stream",
          "name": "stdout",
          "text": [
            "enter a number0\n",
            "given number is non negative nor positive\n",
            "<class 'int'>\n"
          ]
        }
      ]
    },
    {
      "cell_type": "markdown",
      "source": [
        "loooping"
      ],
      "metadata": {
        "id": "iqLvAtSE0fLZ"
      }
    },
    {
      "cell_type": "code",
      "source": [
        "n=int(input(\"enter a value\"))\n",
        "for i in range(1,11,1):\n",
        "  a=n*i\n",
        "  print(a)"
      ],
      "metadata": {
        "colab": {
          "base_uri": "https://localhost:8080/"
        },
        "id": "bX8PwZvScYU3",
        "outputId": "de9f1c37-79c1-4334-81c1-4481ca6abee2"
      },
      "execution_count": null,
      "outputs": [
        {
          "output_type": "stream",
          "name": "stdout",
          "text": [
            "enter a value6\n",
            "6\n",
            "12\n",
            "18\n",
            "24\n",
            "30\n",
            "36\n",
            "42\n",
            "48\n",
            "54\n",
            "60\n"
          ]
        }
      ]
    },
    {
      "cell_type": "code",
      "source": [
        "a=int(input(\"enter a value\"))\n",
        "i=1\n",
        "while(i<=10):\n",
        "  n=a*i\n",
        "  i=i+1\n",
        "  print(n)"
      ],
      "metadata": {
        "colab": {
          "base_uri": "https://localhost:8080/"
        },
        "id": "VTgWxoWScoho",
        "outputId": "5e264f34-e397-471a-bde3-f676f4689080"
      },
      "execution_count": null,
      "outputs": [
        {
          "output_type": "stream",
          "name": "stdout",
          "text": [
            "enter a value5\n",
            "5\n",
            "10\n",
            "15\n",
            "20\n",
            "25\n",
            "30\n",
            "35\n",
            "40\n",
            "45\n",
            "50\n"
          ]
        }
      ]
    },
    {
      "cell_type": "code",
      "source": [],
      "metadata": {
        "id": "pMPRohmwc0vZ"
      },
      "execution_count": null,
      "outputs": []
    },
    {
      "cell_type": "code",
      "source": [
        "n=int(input(\"enter a number\"))\n",
        "st=int(input(\"no of steps\"))\n",
        "for i in range(1,st,1):\n",
        "  print(n,\"*\",i,\"=\",n*i)"
      ],
      "metadata": {
        "colab": {
          "base_uri": "https://localhost:8080/"
        },
        "id": "MeNd6R5v0hCW",
        "outputId": "f2c3aa5f-3a82-4cf5-d5c6-41cc2235ca6e"
      },
      "execution_count": null,
      "outputs": [
        {
          "output_type": "stream",
          "name": "stdout",
          "text": [
            "enter a number4\n",
            "no of steps20\n",
            "4 * 1 = 4\n",
            "4 * 2 = 8\n",
            "4 * 3 = 12\n",
            "4 * 4 = 16\n",
            "4 * 5 = 20\n",
            "4 * 6 = 24\n",
            "4 * 7 = 28\n",
            "4 * 8 = 32\n",
            "4 * 9 = 36\n",
            "4 * 10 = 40\n",
            "4 * 11 = 44\n",
            "4 * 12 = 48\n",
            "4 * 13 = 52\n",
            "4 * 14 = 56\n",
            "4 * 15 = 60\n",
            "4 * 16 = 64\n",
            "4 * 17 = 68\n",
            "4 * 18 = 72\n",
            "4 * 19 = 76\n"
          ]
        }
      ]
    },
    {
      "cell_type": "code",
      "source": [
        "#typecasting:\n",
        "a=23.8\n",
        "b=6\n",
        "print(a*b)#interprecter automattically assign float is called implecte"
      ],
      "metadata": {
        "colab": {
          "base_uri": "https://localhost:8080/"
        },
        "id": "DiCsFb_w3Er_",
        "outputId": "1e995644-0beb-4553-dff8-087c696a4d58"
      },
      "execution_count": null,
      "outputs": [
        {
          "output_type": "stream",
          "name": "stdout",
          "text": [
            "142.8\n"
          ]
        }
      ]
    },
    {
      "cell_type": "code",
      "source": [
        "#typecasting:\n",
        "a=23.8\n",
        "b=6\n",
        "print(int(a*b))#interprecter automattically assign float is called implecte"
      ],
      "metadata": {
        "colab": {
          "base_uri": "https://localhost:8080/"
        },
        "id": "V4rckxvl3rxR",
        "outputId": "e80e7779-f7e0-4012-86e7-38325f5351df"
      },
      "execution_count": null,
      "outputs": [
        {
          "output_type": "stream",
          "name": "stdout",
          "text": [
            "142\n"
          ]
        }
      ]
    },
    {
      "cell_type": "code",
      "source": [
        "a=\"python is easy\"\n",
        "print(a[::-1])\n",
        "print(a[0:6])\n"
      ],
      "metadata": {
        "colab": {
          "base_uri": "https://localhost:8080/"
        },
        "id": "UrPjZgOC4Zb9",
        "outputId": "75998d05-ca65-4073-a494-9e4593738c5e"
      },
      "execution_count": null,
      "outputs": [
        {
          "output_type": "stream",
          "name": "stdout",
          "text": [
            "ysae si nohtyp\n",
            "python\n"
          ]
        }
      ]
    },
    {
      "cell_type": "code",
      "source": [
        "n=int(input(\"enter a number\"))\n",
        "st=int(input(\"no of steps\"))\n",
        "i=0\n",
        "while(i<=st):\n",
        "  print(n,\"*\",i,\"=\",n*i)\n",
        "  i=i+1"
      ],
      "metadata": {
        "colab": {
          "base_uri": "https://localhost:8080/"
        },
        "id": "uEOQWhXa4tnE",
        "outputId": "a05c9856-64f5-4158-8ef7-72805058c5e9"
      },
      "execution_count": null,
      "outputs": [
        {
          "output_type": "stream",
          "name": "stdout",
          "text": [
            "enter a number4\n",
            "no of steps4\n",
            "4 * 0 = 0\n",
            "4 * 1 = 4\n",
            "4 * 2 = 8\n",
            "4 * 3 = 12\n",
            "4 * 4 = 16\n"
          ]
        }
      ]
    },
    {
      "cell_type": "markdown",
      "source": [
        "collections:\n",
        "list:\n",
        "-list is a collection of elements\n",
        "-hetrogenious\n",
        "-mutable(modifiable)"
      ],
      "metadata": {
        "id": "8qL-l2cM9W4b"
      }
    },
    {
      "cell_type": "code",
      "source": [
        "#creating a list:\n",
        "a=[3,32,\"killer\",23,223]\n",
        "print(a)\n"
      ],
      "metadata": {
        "colab": {
          "base_uri": "https://localhost:8080/"
        },
        "id": "MGx36NJF80Fd",
        "outputId": "163132c6-6a79-4252-9108-2bcf0bf7c017"
      },
      "execution_count": null,
      "outputs": [
        {
          "output_type": "stream",
          "name": "stdout",
          "text": [
            "[3, 32, 'killer', 23, 223]\n"
          ]
        }
      ]
    },
    {
      "cell_type": "code",
      "source": [
        "#Display the elements in line by line\n",
        "for i in a:\n",
        "  print(i)\n"
      ],
      "metadata": {
        "colab": {
          "base_uri": "https://localhost:8080/"
        },
        "id": "raxnHHZr-hQB",
        "outputId": "bd7f0a90-afbe-423f-f26b-aeaa8f315cd0"
      },
      "execution_count": null,
      "outputs": [
        {
          "output_type": "stream",
          "name": "stdout",
          "text": [
            "3\n",
            "32\n",
            "killer\n",
            "23\n",
            "223\n"
          ]
        }
      ]
    },
    {
      "cell_type": "code",
      "source": [
        "#append function\n",
        "a.append(9.9)\n",
        "print(a)"
      ],
      "metadata": {
        "colab": {
          "base_uri": "https://localhost:8080/"
        },
        "id": "WTp0_-yUhtbt",
        "outputId": "59ced6fc-581b-4208-f904-f53b66e489b9"
      },
      "execution_count": null,
      "outputs": [
        {
          "output_type": "stream",
          "name": "stdout",
          "text": [
            "[3, 32, 'killer', 23, 223, 9.9]\n"
          ]
        }
      ]
    },
    {
      "cell_type": "code",
      "source": [
        "#insert function\n",
        "a.insert(3,\"hello\")\n",
        "print(a)\n"
      ],
      "metadata": {
        "colab": {
          "base_uri": "https://localhost:8080/"
        },
        "id": "ivAJaAIi_kp9",
        "outputId": "e8d5d0ac-881e-490b-d181-be3bd80da86b"
      },
      "execution_count": null,
      "outputs": [
        {
          "output_type": "stream",
          "name": "stdout",
          "text": [
            "[3, 32, 'killer', 'hello', 23, 223, 9.9]\n"
          ]
        }
      ]
    },
    {
      "cell_type": "code",
      "source": [
        "#extending the list\n",
        "l1=[1,2,3,4]\n",
        "l2=[\"h\",\"e\",\"l\"]\n",
        "l1.extend(l2)\n",
        "print(l1)"
      ],
      "metadata": {
        "colab": {
          "base_uri": "https://localhost:8080/"
        },
        "id": "5CmOPTctBSQ0",
        "outputId": "16e5a30c-aad6-428a-e072-76407df274b3"
      },
      "execution_count": null,
      "outputs": [
        {
          "output_type": "stream",
          "name": "stdout",
          "text": [
            "[1, 2, 3, 4, 'h', 'e', 'l']\n"
          ]
        }
      ]
    },
    {
      "cell_type": "code",
      "source": [
        "#pop function\n",
        "l1.pop(2)\n",
        "print(l1)\n"
      ],
      "metadata": {
        "colab": {
          "base_uri": "https://localhost:8080/"
        },
        "id": "KFZ0q7_bCeAY",
        "outputId": "4b1ab8e3-4091-484c-f19b-c95e19c0a820"
      },
      "execution_count": null,
      "outputs": [
        {
          "output_type": "stream",
          "name": "stdout",
          "text": [
            "[1, 2, 4, 'h', 'e', 'l']\n"
          ]
        }
      ]
    },
    {
      "cell_type": "code",
      "source": [
        " #remove function\n",
        "l1.remove(2)\n",
        "print(l1)\n"
      ],
      "metadata": {
        "colab": {
          "base_uri": "https://localhost:8080/"
        },
        "id": "X9VhKObVnMsL",
        "outputId": "c0691308-2234-4fcb-b1c1-caea2ce598a9"
      },
      "execution_count": null,
      "outputs": [
        {
          "output_type": "stream",
          "name": "stdout",
          "text": [
            "[1, 4, 'h', 'e', 'l']\n"
          ]
        }
      ]
    },
    {
      "cell_type": "code",
      "source": [
        "#max function\n",
        "l3=[12,7,4,13.7]\n",
        "max(l3)"
      ],
      "metadata": {
        "colab": {
          "base_uri": "https://localhost:8080/"
        },
        "id": "4p0i3pObENP5",
        "outputId": "528e481f-1a80-457b-f237-1aa4745b5874"
      },
      "execution_count": null,
      "outputs": [
        {
          "output_type": "execute_result",
          "data": {
            "text/plain": [
              "13.7"
            ]
          },
          "metadata": {},
          "execution_count": 26
        }
      ]
    },
    {
      "cell_type": "markdown",
      "source": [
        "list compresion\n",
        "iterates\n",
        "applies some functions on ever element\n",
        "conditions\n",
        "output lisst"
      ],
      "metadata": {
        "id": "4JBFgiQKEh0h"
      }
    },
    {
      "cell_type": "code",
      "source": [
        "#squaring the elements in list\n",
        "l4=[1,2,3,4,5,6,6,77,8,56]\n",
        "l5=[i**2 for i in l4]\n",
        "print(l5)"
      ],
      "metadata": {
        "colab": {
          "base_uri": "https://localhost:8080/"
        },
        "id": "rEWM4VBoEg0y",
        "outputId": "e5f857bb-2b8d-4871-9bb1-717b134ed4ed"
      },
      "execution_count": null,
      "outputs": [
        {
          "output_type": "stream",
          "name": "stdout",
          "text": [
            "[1, 4, 9, 16, 25, 36, 36, 5929, 64, 3136]\n"
          ]
        }
      ]
    },
    {
      "cell_type": "code",
      "source": [
        "  #squaring the elements in the list which is greater than 50\n",
        "l4=[54,7,4,13.7]\n",
        "l5=[i**2 for i in l4 if i>50]\n",
        "print(l5)"
      ],
      "metadata": {
        "colab": {
          "base_uri": "https://localhost:8080/"
        },
        "id": "-s-tB2WiGE4a",
        "outputId": "5f21fa98-44f3-41fc-ba90-21d145a5322a"
      },
      "execution_count": null,
      "outputs": [
        {
          "output_type": "stream",
          "name": "stdout",
          "text": [
            "[2916]\n"
          ]
        }
      ]
    },
    {
      "cell_type": "code",
      "source": [
        "# the salary of 5 emploiees in the company is taken in the list the tax is 10% if the salary is less than 50000\n",
        "#create a new list with tax amounts\n",
        "#[67000,45000,34000,50000]\n",
        "#list\n",
        "sal=[67000,45000,34000,50000]\n",
        "tax=[]\n",
        "for i in sal:\n",
        "  if i<=50000:\n",
        "    t=i*0.1\n",
        "    tax.append(t)\n",
        "  else:\n",
        "    t=i*0.15\n",
        "    tax.append(t)\n",
        "print(tax)\n"
      ],
      "metadata": {
        "colab": {
          "base_uri": "https://localhost:8080/"
        },
        "id": "KOBcqf6NHJld",
        "outputId": "acd0e9a4-522b-4d09-f3d4-dd48e629b3af"
      },
      "execution_count": null,
      "outputs": [
        {
          "output_type": "stream",
          "name": "stdout",
          "text": [
            "[10050.0, 4500.0, 3400.0, 5000.0]\n"
          ]
        }
      ]
    },
    {
      "cell_type": "code",
      "source": [
        "#list_name=[(body of if ) if (condition) else (body of else) iterate]\n",
        "sal=[67000,45000,34000,50000]\n",
        "tax=[i*0.1 if i<=50000 else i*0.15 for i in sal]\n",
        "print(tax)\n"
      ],
      "metadata": {
        "colab": {
          "base_uri": "https://localhost:8080/"
        },
        "id": "RC_g8LbrJjU6",
        "outputId": "fef92177-8186-42e6-e106-2aba08572249"
      },
      "execution_count": null,
      "outputs": [
        {
          "output_type": "stream",
          "name": "stdout",
          "text": [
            "[10050.0, 4500.0, 3400.0, 5000.0]\n"
          ]
        }
      ]
    }
  ]
}